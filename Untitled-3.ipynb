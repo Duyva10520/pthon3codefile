{
 "cells": [
  {
   "attachments": {},
   "cell_type": "markdown",
   "metadata": {},
   "source": [
    "from file(.py) import modul"
   ]
  },
  {
   "cell_type": "code",
   "execution_count": 2,
   "metadata": {},
   "outputs": [
    {
     "name": "stdout",
     "output_type": "stream",
     "text": [
      "\n",
      "    vrf name vib\n",
      "    rd 16\n",
      "    address-family ipv4\n",
      "    route-target import 16\n",
      "    route-target export 16\n",
      "    \n"
     ]
    }
   ],
   "source": [
    "from build_config import build_vrf_config\n",
    "vib = build_vrf_config('vib', '16')\n",
    "print(vib)"
   ]
  },
  {
   "cell_type": "code",
   "execution_count": 6,
   "metadata": {},
   "outputs": [
    {
     "name": "stdout",
     "output_type": "stream",
     "text": [
      "3.141592653589793\n",
      "1.0\n"
     ]
    }
   ],
   "source": [
    "from math import pi, sin, cos\n",
    "print(pi)\n",
    "print(sin(pi/2))"
   ]
  },
  {
   "attachments": {},
   "cell_type": "markdown",
   "metadata": {},
   "source": [
    "NETMIKO"
   ]
  },
  {
   "cell_type": "code",
   "execution_count": 17,
   "metadata": {},
   "outputs": [],
   "source": [
    "from netmiko import ConnectHandler\n",
    "\n",
    "router1 = {\n",
    "    'device_type': 'cisco_xr',\n",
    "    'ip': 'sandbox-iosxr-1.cisco.com',\n",
    "    'username': 'duyva1',\n",
    "    'password': 'duyva1',\n",
    "    'port': 22\n",
    "}"
   ]
  },
  {
   "cell_type": "code",
   "execution_count": null,
   "metadata": {},
   "outputs": [],
   "source": [
    "with ConnectHandler(**router1) as connection:\n",
    "    result = connection.send_command('show run | in user')\n",
    "    print(result)"
   ]
  },
  {
   "cell_type": "code",
   "execution_count": 27,
   "metadata": {},
   "outputs": [
    {
     "name": "stdout",
     "output_type": "stream",
     "text": [
      "\n",
      "Mon May 22 09:45:32.315 UTC\n",
      "interface Loopback1005\n",
      " description duyva1005\n",
      " ipv4 address 10.0.0.105 255.255.255.255\n",
      "!\n",
      "\n"
     ]
    }
   ],
   "source": [
    "config1 = ['interface loopback1005',\n",
    "          'ipv4 address 10.0.0.105/32',\n",
    "          'description duyva1005',\n",
    "          'commit']\n",
    "with ConnectHandler(**router1) as connection:\n",
    "    result = connection.send_config_set(config1)\n",
    "    result = connection.send_command('show run interface loopback1005')\n",
    "    print(result)"
   ]
  }
 ],
 "metadata": {
  "kernelspec": {
   "display_name": "base",
   "language": "python",
   "name": "python3"
  },
  "language_info": {
   "codemirror_mode": {
    "name": "ipython",
    "version": 3
   },
   "file_extension": ".py",
   "mimetype": "text/x-python",
   "name": "python",
   "nbconvert_exporter": "python",
   "pygments_lexer": "ipython3",
   "version": "3.8.10"
  },
  "orig_nbformat": 4
 },
 "nbformat": 4,
 "nbformat_minor": 2
}
