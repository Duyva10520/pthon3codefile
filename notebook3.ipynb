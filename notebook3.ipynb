{
 "cells": [
  {
   "cell_type": "code",
   "execution_count": 2,
   "metadata": {},
   "outputs": [
    {
     "name": "stdout",
     "output_type": "stream",
     "text": [
      "Địa chỉ IP: 192.168.60.222 và Subnet mask: 255.255.255.0\n",
      "Địa chỉ mạng: 192.168.60.0\n"
     ]
    }
   ],
   "source": [
    "import ipaddress\n",
    "\n",
    "# Hàm lấy địa chỉ mạng từ địa chỉ IP và subnet mask\n",
    "def get_network_address(ip_address, subnet_mask):\n",
    "    try:\n",
    "        network = ipaddress.IPv4Network(ip_address + '/' + subnet_mask, strict=False)\n",
    "        return str(network.network_address)\n",
    "    except ValueError:\n",
    "        return None\n",
    "\n",
    "# Nhập địa chỉ IP và subnet mask từ người dùng\n",
    "ip_address = input(\"Nhập địa chỉ IP: \")\n",
    "subnet_mask = input(\"Nhập subnet mask: \")\n",
    "\n",
    "# Lấy địa chỉ mạng từ địa chỉ IP và subnet mask\n",
    "network_address = get_network_address(ip_address, subnet_mask)\n",
    "\n",
    "# Kiểm tra và in kết quả\n",
    "print('Địa chỉ IP:', ip_address, 'và Subnet mask:', subnet_mask)\n",
    "if network_address is not None:\n",
    "    print(f\"Địa chỉ mạng: {network_address}\")\n",
    "else:\n",
    "    print(\"Địa chỉ IP hoặc subnet mask không hợp lệ!\")\n"
   ]
  }
 ],
 "metadata": {
  "kernelspec": {
   "display_name": "base",
   "language": "python",
   "name": "python3"
  },
  "language_info": {
   "codemirror_mode": {
    "name": "ipython",
    "version": 3
   },
   "file_extension": ".py",
   "mimetype": "text/x-python",
   "name": "python",
   "nbconvert_exporter": "python",
   "pygments_lexer": "ipython3",
   "version": "3.10.9"
  },
  "orig_nbformat": 4
 },
 "nbformat": 4,
 "nbformat_minor": 2
}
