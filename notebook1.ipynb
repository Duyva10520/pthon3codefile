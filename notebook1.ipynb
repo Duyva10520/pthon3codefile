{
 "cells": [
  {
   "attachments": {},
   "cell_type": "markdown",
   "metadata": {},
   "source": [
    "Python Hello world"
   ]
  },
  {
   "cell_type": "code",
   "execution_count": 20,
   "metadata": {},
   "outputs": [
    {
     "name": "stdout",
     "output_type": "stream",
     "text": [
      "hello world\n",
      "welcome to devnet course\n"
     ]
    }
   ],
   "source": [
    "print('hello world')         \n",
    "print('welcome to devnet course')"
   ]
  },
  {
   "cell_type": "code",
   "execution_count": 21,
   "metadata": {},
   "outputs": [
    {
     "name": "stdout",
     "output_type": "stream",
     "text": [
      "hello world\n",
      "\n",
      "1 2 3 4\n",
      "1->2->3->4;5--------->6--------->7--------->8\n"
     ]
    }
   ],
   "source": [
    "print('hello', 'world') \n",
    "print()\n",
    "print('1', '2', '3', '4')\n",
    "print('1', '2', '3', '4', sep='->', end=';')\n",
    "print(5, 6, 7, 8, sep='--------->')"
   ]
  },
  {
   "attachments": {},
   "cell_type": "markdown",
   "metadata": {},
   "source": [
    "Variables"
   ]
  },
  {
   "cell_type": "code",
   "execution_count": 22,
   "metadata": {},
   "outputs": [
    {
     "name": "stdout",
     "output_type": "stream",
     "text": [
      "Duy is 23 years old.\n"
     ]
    }
   ],
   "source": [
    "name = input('Enter your Name:')\n",
    "birth_year = input('Enter your Birth Year:')\n",
    "age = 2023 - int(birth_year)\n",
    "print(name, 'is', age, 'years old.')"
   ]
  },
  {
   "cell_type": "code",
   "execution_count": 31,
   "metadata": {},
   "outputs": [
    {
     "data": {
      "text/plain": [
       "int"
      ]
     },
     "execution_count": 31,
     "metadata": {},
     "output_type": "execute_result"
    }
   ],
   "source": [
    "a=1\n",
    "type(a)"
   ]
  },
  {
   "cell_type": "code",
   "execution_count": 35,
   "metadata": {},
   "outputs": [
    {
     "data": {
      "text/plain": [
       "int"
      ]
     },
     "execution_count": 35,
     "metadata": {},
     "output_type": "execute_result"
    }
   ],
   "source": [
    "a=123456\n",
    "type(a)"
   ]
  },
  {
   "cell_type": "code",
   "execution_count": 32,
   "metadata": {},
   "outputs": [
    {
     "data": {
      "text/plain": [
       "float"
      ]
     },
     "execution_count": 32,
     "metadata": {},
     "output_type": "execute_result"
    }
   ],
   "source": [
    "a=10.232323232\n",
    "type(a)"
   ]
  },
  {
   "cell_type": "code",
   "execution_count": 26,
   "metadata": {},
   "outputs": [
    {
     "name": "stdout",
     "output_type": "stream",
     "text": [
      "125\n",
      "250\n"
     ]
    }
   ],
   "source": [
    "a=100\n",
    "a=a+25\n",
    "print(a)\n",
    "a=a*2\n",
    "print(a)"
   ]
  },
  {
   "cell_type": "code",
   "execution_count": 27,
   "metadata": {},
   "outputs": [
    {
     "name": "stdout",
     "output_type": "stream",
     "text": [
      "300\n",
      "60.0\n",
      "3600.0\n",
      "3000.0\n"
     ]
    }
   ],
   "source": [
    "a=250\n",
    "a+=50 #a=a+50\n",
    "print(a)\n",
    "a/=5 #a=a/5\n",
    "print(a)\n",
    "a**=2 #a=a^2\n",
    "print(a)\n",
    "b=600\n",
    "a-=b #a=a-b\n",
    "print(a)"
   ]
  },
  {
   "attachments": {},
   "cell_type": "markdown",
   "metadata": {},
   "source": [
    "Strings"
   ]
  },
  {
   "cell_type": "code",
   "execution_count": 37,
   "metadata": {},
   "outputs": [
    {
     "name": "stdout",
     "output_type": "stream",
     "text": [
      "I am a oneline string\n"
     ]
    }
   ],
   "source": [
    "my_first_string='I am a oneline string'\n",
    "print(my_first_string)"
   ]
  },
  {
   "cell_type": "code",
   "execution_count": 38,
   "metadata": {},
   "outputs": [
    {
     "name": "stdout",
     "output_type": "stream",
     "text": [
      "router ospf\n",
      "router-id 10.0.0.1\n",
      "area 0\n",
      "interface Gi0/0\n"
     ]
    }
   ],
   "source": [
    "ospf_configuration=\"\"\"router ospf\n",
    "router-id 10.0.0.1\n",
    "area 0\n",
    "interface Gi0/0\"\"\"\n",
    "print(ospf_configuration)\n"
   ]
  },
  {
   "cell_type": "code",
   "execution_count": 39,
   "metadata": {},
   "outputs": [
    {
     "name": "stdout",
     "output_type": "stream",
     "text": [
      "router ospf\n",
      "router-id 10.0.0.1\n",
      "area 0\n",
      "interface Gi0/0\n"
     ]
    }
   ],
   "source": [
    "ospf_configuration_2=\"\"\"router ospf\\nrouter-id 10.0.0.1\\narea 0\\ninterface Gi0/0\"\"\"\n",
    "print(ospf_configuration_2)"
   ]
  }
 ],
 "metadata": {
  "kernelspec": {
   "display_name": "Python 3",
   "language": "python",
   "name": "python3"
  },
  "language_info": {
   "codemirror_mode": {
    "name": "ipython",
    "version": 3
   },
   "file_extension": ".py",
   "mimetype": "text/x-python",
   "name": "python",
   "nbconvert_exporter": "python",
   "pygments_lexer": "ipython3",
   "version": "3.8.10"
  },
  "orig_nbformat": 4
 },
 "nbformat": 4,
 "nbformat_minor": 2
}
